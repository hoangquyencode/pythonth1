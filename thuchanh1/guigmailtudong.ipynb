{
 "cells": [
  {
   "cell_type": "code",
   "execution_count": 5,
   "id": "30124278",
   "metadata": {},
   "outputs": [
    {
     "name": "stdout",
     "output_type": "stream",
     "text": [
      "✅ Email đã được gửi đến chip252024@gmail.com\n"
     ]
    }
   ],
   "source": [
    "import smtplib\n",
    "import imaplib\n",
    "import email\n",
    "from email.mime.text import MIMEText\n",
    "\n",
    "# --- Bước 1: Đọc thông tin tài khoản ---\n",
    "with open('email_credentials.txt', 'r') as file:\n",
    "    account_info = file.readlines()\n",
    "    email_account = account_info[0].strip()\n",
    "    app_password = account_info[1].strip()\n",
    "\n",
    "# --- Bước 2: Đọc nội dung email và cấu hình ---\n",
    "with open('email_content.txt', 'r', encoding='utf-8') as file:\n",
    "    email_content = file.read()\n",
    "\n",
    "with open('recipient.txt', 'r') as file:\n",
    "    recipient_email = file.read().strip()\n",
    "\n",
    "with open('email_filter.txt', 'r') as file:\n",
    "    filter_sender = file.read().strip()\n",
    "\n",
    "# --- Bước 3: Gửi email ---\n",
    "msg = MIMEText(email_content)\n",
    "msg['Subject'] = 'Email Tự Động'\n",
    "msg['From'] = email_account\n",
    "msg['To'] = recipient_email\n",
    "\n",
    "try:\n",
    "    with smtplib.SMTP('smtp.gmail.com', 587) as server:\n",
    "        server.starttls()\n",
    "        server.login(email_account, app_password)\n",
    "        server.send_message(msg)\n",
    "        print(f'✅ Email đã được gửi đến {recipient_email}')\n",
    "except Exception as e:\n",
    "    print(f\"❌ Không thể gửi email: {e}\")\n",
    "\n",
    "# --- Bước 4: Nhận email từ hộp thư đến ---\n",
    "try:\n",
    "    with imaplib.IMAP4_SSL('imap.gmail.com') as server:\n",
    "        server.login(email_account, app_password)\n",
    "        server.select('INBOX')\n",
    "        _, data = server.search(None, f'FROM \"{filter_sender}\"')\n",
    "\n",
    "        for num in data[0].split():\n",
    "            _, msg_data = server.fetch(num, '(RFC822)')\n",
    "            email_msg = email.message_from_bytes(msg_data[0][1])\n",
    "            subject = email_msg['subject']\n",
    "            print(f\"\\n📥 Tiêu đề email nhận được: {subject}\")\n",
    "\n",
    "            if email_msg.is_multipart():\n",
    "                for part in email_msg.walk():\n",
    "                    if part.get_content_type() == 'text/plain':\n",
    "                        print(\"📄 Nội dung:\", part.get_payload(decode=True).decode())\n",
    "            else:\n",
    "                print(\"📄 Nội dung:\", email_msg.get_payload(decode=True).decode())\n",
    "            break  # Chỉ in email đầu tiên\n",
    "except Exception as e:\n",
    "    print(f\"❌ Không thể nhận email: {e}\")\n"
   ]
  },
  {
   "cell_type": "code",
   "execution_count": 1,
   "id": "74e90d57",
   "metadata": {},
   "outputs": [
    {
     "name": "stdout",
     "output_type": "stream",
     "text": [
      "\n",
      "📩 Nhận được thư từ Gmail 1: =?utf-8?b?RW1haWwgVOG7sSDEkOG7mW5n?=\n",
      "✅ Gmail 2 đã gửi lại email cho Gmail 1.\n"
     ]
    }
   ],
   "source": [
    "import smtplib, imaplib, email\n",
    "from email.mime.text import MIMEText\n",
    "\n",
    "with open('email_credentials_2.txt', 'r') as file:\n",
    "    info = file.readlines()\n",
    "    email2 = info[0].strip()\n",
    "    app_pass2 = info[1].strip()\n",
    "\n",
    "with open('email_filter.txt', 'r') as f:\n",
    "    filter_sender = f.read().strip()\n",
    "\n",
    "# Gmail 2 nhận thư từ Gmail 1\n",
    "with imaplib.IMAP4_SSL('imap.gmail.com') as server:\n",
    "    server.login(email2, app_pass2)\n",
    "    server.select('INBOX')\n",
    "    _, data = server.search(None, f'FROM \"{filter_sender}\"')\n",
    "    for num in data[0].split():\n",
    "        _, msg_data = server.fetch(num, '(RFC822)')\n",
    "        email_msg = email.message_from_bytes(msg_data[0][1])\n",
    "        subject = email_msg['subject']\n",
    "        print(f\"\\n📩 Nhận được thư từ Gmail 1: {subject}\")\n",
    "        if email_msg.is_multipart():\n",
    "            for part in email_msg.walk():\n",
    "                if part.get_content_type() == 'text/plain':\n",
    "                    body = part.get_payload(decode=True).decode()\n",
    "        else:\n",
    "            body = email_msg.get_payload(decode=True).decode()\n",
    "        break\n",
    "\n",
    "# Gửi lại nội dung cho Gmail 1\n",
    "msg = MIMEText(f\"Gmail 2 phản hồi:\\n\\n{body}\")\n",
    "msg['Subject'] = 'Phản hồi từ Gmail 2'\n",
    "msg['From'] = email2\n",
    "msg['To'] = filter_sender\n",
    "\n",
    "with smtplib.SMTP('smtp.gmail.com', 587) as server:\n",
    "    server.starttls()\n",
    "    server.login(email2, app_pass2)\n",
    "    server.send_message(msg)\n",
    "\n",
    "print(\"✅ Gmail 2 đã gửi lại email cho Gmail 1.\")\n"
   ]
  }
 ],
 "metadata": {
  "kernelspec": {
   "display_name": "base",
   "language": "python",
   "name": "python3"
  },
  "language_info": {
   "codemirror_mode": {
    "name": "ipython",
    "version": 3
   },
   "file_extension": ".py",
   "mimetype": "text/x-python",
   "name": "python",
   "nbconvert_exporter": "python",
   "pygments_lexer": "ipython3",
   "version": "3.12.7"
  }
 },
 "nbformat": 4,
 "nbformat_minor": 5
}
